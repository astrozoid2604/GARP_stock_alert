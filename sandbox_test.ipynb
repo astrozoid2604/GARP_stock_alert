{
 "cells": [
  {
   "cell_type": "code",
   "execution_count": 1,
   "id": "b18cd5c5-8906-4f0f-b7bd-0487e42b5974",
   "metadata": {},
   "outputs": [
    {
     "data": {
      "text/plain": [
       "dict_keys(['address1', 'city', 'state', 'zip', 'country', 'phone', 'website', 'industry', 'industryKey', 'industryDisp', 'sector', 'sectorKey', 'sectorDisp', 'longBusinessSummary', 'fullTimeEmployees', 'companyOfficers', 'auditRisk', 'boardRisk', 'compensationRisk', 'shareHolderRightsRisk', 'overallRisk', 'governanceEpochDate', 'compensationAsOfEpochDate', 'irWebsite', 'executiveTeam', 'maxAge', 'priceHint', 'previousClose', 'open', 'dayLow', 'dayHigh', 'regularMarketPreviousClose', 'regularMarketOpen', 'regularMarketDayLow', 'regularMarketDayHigh', 'dividendRate', 'dividendYield', 'exDividendDate', 'payoutRatio', 'fiveYearAvgDividendYield', 'beta', 'trailingPE', 'forwardPE', 'volume', 'regularMarketVolume', 'averageVolume', 'averageVolume10days', 'averageDailyVolume10Day', 'bid', 'ask', 'bidSize', 'askSize', 'marketCap', 'fiftyTwoWeekLow', 'fiftyTwoWeekHigh', 'priceToSalesTrailing12Months', 'fiftyDayAverage', 'twoHundredDayAverage', 'trailingAnnualDividendRate', 'trailingAnnualDividendYield', 'currency', 'tradeable', 'enterpriseValue', 'profitMargins', 'floatShares', 'sharesOutstanding', 'sharesShort', 'sharesShortPriorMonth', 'sharesShortPreviousMonthDate', 'dateShortInterest', 'sharesPercentSharesOut', 'heldPercentInsiders', 'heldPercentInstitutions', 'shortRatio', 'shortPercentOfFloat', 'impliedSharesOutstanding', 'bookValue', 'priceToBook', 'lastFiscalYearEnd', 'nextFiscalYearEnd', 'mostRecentQuarter', 'earningsQuarterlyGrowth', 'netIncomeToCommon', 'trailingEps', 'forwardEps', 'lastSplitFactor', 'lastSplitDate', 'enterpriseToRevenue', 'enterpriseToEbitda', '52WeekChange', 'SandP52WeekChange', 'lastDividendValue', 'lastDividendDate', 'quoteType', 'currentPrice', 'targetHighPrice', 'targetLowPrice', 'targetMeanPrice', 'targetMedianPrice', 'recommendationMean', 'recommendationKey', 'numberOfAnalystOpinions', 'totalCash', 'totalCashPerShare', 'ebitda', 'totalDebt', 'quickRatio', 'currentRatio', 'totalRevenue', 'debtToEquity', 'revenuePerShare', 'returnOnAssets', 'returnOnEquity', 'grossProfits', 'freeCashflow', 'operatingCashflow', 'earningsGrowth', 'revenueGrowth', 'grossMargins', 'ebitdaMargins', 'operatingMargins', 'financialCurrency', 'symbol', 'language', 'region', 'typeDisp', 'quoteSourceName', 'triggerable', 'customPriceAlertConfidence', 'longName', 'marketState', 'shortName', 'corporateActions', 'postMarketTime', 'regularMarketTime', 'exchange', 'messageBoardId', 'exchangeTimezoneName', 'exchangeTimezoneShortName', 'gmtOffSetMilliseconds', 'market', 'esgPopulated', 'regularMarketChangePercent', 'regularMarketPrice', 'hasPrePostMarketData', 'firstTradeDateMilliseconds', 'postMarketChangePercent', 'postMarketPrice', 'postMarketChange', 'regularMarketChange', 'regularMarketDayRange', 'fullExchangeName', 'averageDailyVolume3Month', 'fiftyTwoWeekLowChange', 'fiftyTwoWeekLowChangePercent', 'fiftyTwoWeekRange', 'fiftyTwoWeekHighChange', 'fiftyTwoWeekHighChangePercent', 'fiftyTwoWeekChangePercent', 'dividendDate', 'earningsTimestamp', 'earningsTimestampStart', 'earningsTimestampEnd', 'earningsCallTimestampStart', 'earningsCallTimestampEnd', 'isEarningsDateEstimate', 'epsTrailingTwelveMonths', 'epsForward', 'epsCurrentYear', 'priceEpsCurrentYear', 'fiftyDayAverageChange', 'fiftyDayAverageChangePercent', 'twoHundredDayAverageChange', 'twoHundredDayAverageChangePercent', 'sourceInterval', 'exchangeDataDelayedBy', 'averageAnalystRating', 'cryptoTradeable', 'displayName', 'trailingPegRatio'])"
      ]
     },
     "execution_count": 1,
     "metadata": {},
     "output_type": "execute_result"
    }
   ],
   "source": [
    "import yfinance as yf\n",
    "\n",
    "nvda = yf.Ticker(\"NVDA\")\n",
    "info = nvda.info\n",
    "\n",
    "info.keys()"
   ]
  },
  {
   "cell_type": "code",
   "execution_count": 2,
   "id": "c0487c8e-d4db-4863-854a-308471bdfb34",
   "metadata": {},
   "outputs": [],
   "source": [
    "# boosted_garp_alert.py\n",
    "import yfinance as yf\n",
    "import datetime\n",
    "import os\n",
    "import sendgrid\n",
    "from sendgrid.helpers.mail import Mail\n",
    "\n",
    "# === CONFIGURATION ===\n",
    "stocks = {\n",
    "    'NVDA': {'weight': 14, 'fpe_limit': 30, 'peg_limit': 0.7, 'ps_limit': 22},\n",
    "    'META': {'weight': 14, 'fpe_limit': 24, 'peg_limit': 0.7, 'ps_limit': 9.5},\n",
    "    'AMZN': {'weight': 11, 'fpe_limit': 30, 'peg_limit': 0.6, 'ps_limit': 3.3},\n",
    "    'MELI': {'weight': 10, 'fpe_limit': 40, 'peg_limit': 0.8, 'ps_limit': 5.0},\n",
    "    'MSFT': {'weight': 10, 'fpe_limit': 24, 'peg_limit': 2.5, 'ps_limit': 12},\n",
    "    'ANET': {'weight': 9,  'fpe_limit': 28, 'peg_limit': 1.2, 'ps_limit': 14},\n",
    "    'AAPL': {'weight': 8,  'fpe_limit': 26, 'peg_limit': 2.0, 'ps_limit': 7},\n",
    "    'AXON': {'weight': 7,  'fpe_limit': 70, 'peg_limit': 1.5, 'ps_limit': 18},\n",
    "    'AVGO': {'weight': 6,  'fpe_limit': 25, 'peg_limit': 2.0, 'ps_limit': 18},\n",
    "    'NFLX': {'weight': 6,  'fpe_limit': 40, 'peg_limit': 1.1, 'ps_limit': 12},\n",
    "    'LLY':  {'weight': 5,  'fpe_limit': 35, 'peg_limit': 0.7, 'ps_limit': 13}\n",
    "}\n",
    "\n",
    "# === HELPER FUNCTIONS ===\n",
    "def get_financials(ticker):\n",
    "    stock = yf.Ticker(ticker)\n",
    "    try:\n",
    "        info = stock.info\n",
    "        fpe = info.get('forwardPE') or float('inf')\n",
    "        peg = info.get('trailingPegRatio') or float('inf')\n",
    "        ps = info.get('priceToSalesTrailing12Months') or float('inf')\n",
    "        if any(val == float('inf') for val in [fpe, peg, ps]):\n",
    "            print(f\"[Warning] Missing financial data for {ticker}\")\n",
    "        return {'fpe': fpe, 'peg': peg, 'ps': ps}\n",
    "    except:\n",
    "        print(f\"[Error] Failed to fetch financials for {ticker}\")\n",
    "        return {'fpe': float('inf'), 'peg': float('inf'), 'ps': float('inf')}\n",
    "\n",
    "def evaluate_entry(fpe, peg, ps, limits):\n",
    "    score = 0\n",
    "    if peg <= limits['peg_limit']: score += 45\n",
    "    if fpe <= limits['fpe_limit']: score += 35\n",
    "    if ps <= limits['ps_limit']: score += 20\n",
    "\n",
    "    if score >= 75:\n",
    "        decision = 'Strong Buy'\n",
    "    elif score >= 55:\n",
    "        decision = 'Partial Buy'\n",
    "    else:\n",
    "        decision = 'Hold'\n",
    "\n",
    "    return score, decision\n",
    "\n",
    "def generate_email_content(results):\n",
    "    header = ['Stock Ticker', 'Current PE RATIO (FWD)', 'Current PEG RATIO', 'Current P/S RATIO',\n",
    "              'UpperLimit PE RATIO (FWD)', 'UpperLimit PEG RATIO', 'UpperLimit P/S RATIO',\n",
    "              'Weighted Score', 'Decision']\n",
    "    rows = [header]\n",
    "\n",
    "    for ticker, data in results:\n",
    "        row = [\n",
    "            ticker,\n",
    "            f\"{data['fpe']:.2f}\",\n",
    "            f\"{data['peg']:.2f}\",\n",
    "            f\"{data['ps']:.2f}\",\n",
    "            f\"{data['limits']['fpe_limit']}\",\n",
    "            f\"{data['limits']['peg_limit']}\",\n",
    "            f\"{data['limits']['ps_limit']}\",\n",
    "            f\"{data['score']}\",\n",
    "            data['decision']\n",
    "        ]\n",
    "        rows.append(row)\n",
    "\n",
    "    table_html = '<table border=\"1\" cellpadding=\"4\">' + \\\n",
    "        '<tr>' + ''.join(f'<th>{col}</th>' for col in rows[0]) + '</tr>'\n",
    "    for row in rows[1:]:\n",
    "        table_html += '<tr>' + ''.join(f'<td>{cell}</td>' for cell in row) + '</tr>'\n",
    "    table_html += '</table>'\n",
    "    return table_html\n",
    "\n",
    "def send_email(subject, html_content):\n",
    "    sg = sendgrid.SendGridAPIClient(api_key=os.environ['SENDGRID_API_KEY'])\n",
    "    email = Mail(\n",
    "        from_email='alert@portfolio.com',\n",
    "        to_emails='e0950510@u.nus.edu',\n",
    "        subject=subject,\n",
    "        html_content=html_content\n",
    "    )\n",
    "    sg.send(email)\n",
    "\n",
    "\n"
   ]
  },
  {
   "cell_type": "code",
   "execution_count": 3,
   "id": "bda745e9-641b-40a3-babb-df5eab215106",
   "metadata": {},
   "outputs": [
    {
     "name": "stdout",
     "output_type": "stream",
     "text": [
      "[Warning] Missing financial data for AXON\n"
     ]
    },
    {
     "data": {
      "text/plain": [
       "'<table border=\"1\" cellpadding=\"4\"><tr><th>Stock Ticker</th><th>Current PE RATIO (FWD)</th><th>Current PEG RATIO</th><th>Current P/S RATIO</th><th>UpperLimit PE RATIO (FWD)</th><th>UpperLimit PEG RATIO</th><th>UpperLimit P/S RATIO</th><th>Weighted Score</th><th>Decision</th></tr><tr><td>NVDA</td><td>34.40</td><td>1.76</td><td>23.27</td><td>30</td><td>0.7</td><td>22</td><td>0</td><td>Hold</td></tr><tr><td>META</td><td>27.58</td><td>2.30</td><td>10.30</td><td>24</td><td>0.7</td><td>9.5</td><td>0</td><td>Hold</td></tr><tr><td>AMZN</td><td>34.73</td><td>2.36</td><td>3.49</td><td>30</td><td>0.6</td><td>3.3</td><td>0</td><td>Hold</td></tr><tr><td>MELI</td><td>51.31</td><td>1.61</td><td>5.62</td><td>40</td><td>0.8</td><td>5.0</td><td>0</td><td>Hold</td></tr><tr><td>MSFT</td><td>31.46</td><td>2.21</td><td>12.95</td><td>24</td><td>2.5</td><td>12</td><td>45</td><td>Hold</td></tr><tr><td>ANET</td><td>9.99</td><td>2.62</td><td>16.42</td><td>28</td><td>1.2</td><td>14</td><td>35</td><td>Hold</td></tr><tr><td>AAPL</td><td>24.54</td><td>1.85</td><td>7.61</td><td>26</td><td>2.0</td><td>7</td><td>80</td><td>Strong Buy</td></tr><tr><td>AXON</td><td>127.72</td><td>inf</td><td>27.69</td><td>70</td><td>1.5</td><td>18</td><td>0</td><td>Hold</td></tr><tr><td>AVGO</td><td>40.02</td><td>0.66</td><td>20.35</td><td>25</td><td>2.0</td><td>18</td><td>45</td><td>Hold</td></tr><tr><td>NFLX</td><td>52.21</td><td>2.21</td><td>13.15</td><td>40</td><td>1.1</td><td>12</td><td>0</td><td>Hold</td></tr><tr><td>LLY</td><td>33.98</td><td>1.18</td><td>14.10</td><td>35</td><td>0.7</td><td>13</td><td>35</td><td>Hold</td></tr></table>'"
      ]
     },
     "execution_count": 3,
     "metadata": {},
     "output_type": "execute_result"
    }
   ],
   "source": [
    "# === MAIN EXECUTION ===\n",
    "\n",
    "results = []\n",
    "for ticker, limits in sorted(stocks.items(), key=lambda x: -x[1]['weight']):\n",
    "    metrics = get_financials(ticker)\n",
    "    score, decision = evaluate_entry(metrics['fpe'], metrics['peg'], metrics['ps'], limits)\n",
    "    results.append((ticker, {\n",
    "        'fpe': metrics['fpe'],\n",
    "        'peg': metrics['peg'],\n",
    "        'ps': metrics['ps'],\n",
    "        'limits': limits,\n",
    "        'score': score,\n",
    "        'decision': decision\n",
    "    }))\n",
    "\n",
    "date_str = datetime.datetime.now().strftime('%Y:%b:%d')\n",
    "any_buy = any(data['decision'] in ['Strong Buy', 'Partial Buy'] for _, data in results)\n",
    "subject_prefix = '[{} {}] Portfolio Notification'.format(date_str, 'Buy' if any_buy else 'Hold')\n",
    "html_body = generate_email_content(results)\n",
    "html_body"
   ]
  },
  {
   "cell_type": "markdown",
   "id": "4970430c-0733-437b-9e32-347d09c0c11d",
   "metadata": {},
   "source": [
    "<table border=\"1\" cellpadding=\"4\"><tr><th>Stock Ticker</th><th>Current PE RATIO (FWD)</th><th>Current PEG RATIO</th><th>Current P/S RATIO</th><th>UpperLimit PE RATIO (FWD)</th><th>UpperLimit PEG RATIO</th><th>UpperLimit P/S RATIO</th><th>Weighted Score</th><th>Decision</th></tr><tr><td>NVDA</td><td>34.40</td><td>1.76</td><td>23.27</td><td>30</td><td>0.7</td><td>22</td><td>0</td><td>Hold</td></tr><tr><td>META</td><td>27.58</td><td>2.30</td><td>10.30</td><td>24</td><td>0.7</td><td>9.5</td><td>0</td><td>Hold</td></tr><tr><td>AMZN</td><td>34.73</td><td>2.36</td><td>3.49</td><td>30</td><td>0.6</td><td>3.3</td><td>0</td><td>Hold</td></tr><tr><td>MELI</td><td>51.31</td><td>1.61</td><td>5.62</td><td>40</td><td>0.8</td><td>5.0</td><td>0</td><td>Hold</td></tr><tr><td>MSFT</td><td>31.46</td><td>2.21</td><td>12.95</td><td>24</td><td>2.5</td><td>12</td><td>45</td><td>Hold</td></tr><tr><td>ANET</td><td>9.99</td><td>2.62</td><td>16.42</td><td>28</td><td>1.2</td><td>14</td><td>35</td><td>Hold</td></tr><tr><td>AAPL</td><td>24.54</td><td>1.85</td><td>7.61</td><td>26</td><td>2.0</td><td>7</td><td>80</td><td>Strong Buy</td></tr><tr><td>AXON</td><td>127.72</td><td>inf</td><td>27.69</td><td>70</td><td>1.5</td><td>18</td><td>0</td><td>Hold</td></tr><tr><td>AVGO</td><td>40.02</td><td>0.66</td><td>20.35</td><td>25</td><td>2.0</td><td>18</td><td>45</td><td>Hold</td></tr><tr><td>NFLX</td><td>52.21</td><td>2.21</td><td>13.15</td><td>40</td><td>1.1</td><td>12</td><td>0</td><td>Hold</td></tr><tr><td>LLY</td><td>33.98</td><td>1.18</td><td>14.10</td><td>35</td><td>0.7</td><td>13</td><td>35</td><td>Hold</td></tr></table>"
   ]
  }
 ],
 "metadata": {
  "kernelspec": {
   "display_name": "Python3.10 (GARP_stock_alert)",
   "language": "python",
   "name": "boosted-garp-env"
  },
  "language_info": {
   "codemirror_mode": {
    "name": "ipython",
    "version": 3
   },
   "file_extension": ".py",
   "mimetype": "text/x-python",
   "name": "python",
   "nbconvert_exporter": "python",
   "pygments_lexer": "ipython3",
   "version": "3.10.18"
  }
 },
 "nbformat": 4,
 "nbformat_minor": 5
}
